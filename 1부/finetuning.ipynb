{
 "cells": [
  {
   "cell_type": "code",
   "execution_count": 4,
   "metadata": {},
   "outputs": [
    {
     "data": {
      "text/plain": [
       "FileObject(id='file-QZ6nwPNfqWxGxB1waZflb334', bytes=3466, created_at=1720663085, filename='test-data.jsonl', object='file', purpose='fine-tune', status='processed', status_details=None)"
      ]
     },
     "execution_count": 4,
     "metadata": {},
     "output_type": "execute_result"
    }
   ],
   "source": [
    "from openai import OpenAI\n",
    "client = OpenAI()\n",
    "\n",
    "client.files.create(\n",
    "  file=open(\"test-data.jsonl\", \"rb\"),\n",
    "  purpose=\"fine-tune\"\n",
    ")"
   ]
  },
  {
   "cell_type": "code",
   "execution_count": 6,
   "metadata": {},
   "outputs": [
    {
     "data": {
      "text/plain": [
       "FineTuningJob(id='ftjob-BSXnEtUF6OM2QuWN5zkx6y8J', created_at=1720663103, error=Error(code=None, message=None, param=None), fine_tuned_model=None, finished_at=None, hyperparameters=Hyperparameters(n_epochs='auto', batch_size='auto', learning_rate_multiplier='auto'), model='gpt-3.5-turbo-0125', object='fine_tuning.job', organization_id='org-d1ff5NC3puU0cXl4KzIo514W', result_files=[], seed=145342723, status='validating_files', trained_tokens=None, training_file='file-QZ6nwPNfqWxGxB1waZflb334', validation_file=None, estimated_finish=None, integrations=[], user_provided_suffix=None)"
      ]
     },
     "execution_count": 6,
     "metadata": {},
     "output_type": "execute_result"
    }
   ],
   "source": [
    "from openai import OpenAI\n",
    "client = OpenAI()\n",
    "\n",
    "client.fine_tuning.jobs.create(\n",
    "  training_file=\"file-QZ6nwPNfqWxGxB1waZflb334\", \n",
    "  model=\"gpt-3.5-turbo\"\n",
    ")"
   ]
  },
  {
   "cell_type": "code",
   "execution_count": 7,
   "metadata": {},
   "outputs": [
    {
     "data": {
      "text/plain": [
       "SyncCursorPage[FineTuningJob](data=[FineTuningJob(id='ftjob-BSXnEtUF6OM2QuWN5zkx6y8J', created_at=1720663103, error=Error(code=None, message=None, param=None), fine_tuned_model=None, finished_at=None, hyperparameters=Hyperparameters(n_epochs=7, batch_size=1, learning_rate_multiplier=2), model='gpt-3.5-turbo-0125', object='fine_tuning.job', organization_id='org-d1ff5NC3puU0cXl4KzIo514W', result_files=[], seed=145342723, status='running', trained_tokens=None, training_file='file-QZ6nwPNfqWxGxB1waZflb334', validation_file=None, estimated_finish=None, integrations=[], user_provided_suffix=None), FineTuningJob(id='ftjob-qZI3oXNSFSkWugR8SpJEh7dX', created_at=1720663091, error=Error(code='invalid_training_file', message='The job failed due to an invalid training file. Expected file to have JSONL format, where every line is a valid JSON dictionary. Line 1 is not a dictionary.', param='training_file'), fine_tuned_model=None, finished_at=None, hyperparameters=Hyperparameters(n_epochs='auto', batch_size='auto', learning_rate_multiplier='auto'), model='gpt-3.5-turbo-0125', object='fine_tuning.job', organization_id='org-d1ff5NC3puU0cXl4KzIo514W', result_files=[], seed=803201, status='failed', trained_tokens=None, training_file='file-uanmMrmxPfTejfLqGGd5gfLX', validation_file=None, estimated_finish=None, integrations=[], user_provided_suffix=None), FineTuningJob(id='ftjob-1YW6jN7jOTL7kCGgZgMSyl5I', created_at=1720662912, error=Error(code='invalid_training_file', message='The job failed due to an invalid training file. Expected file to have JSONL format, where every line is a valid JSON dictionary. Line 1 is not a dictionary.', param='training_file'), fine_tuned_model=None, finished_at=None, hyperparameters=Hyperparameters(n_epochs='auto', batch_size='auto', learning_rate_multiplier='auto'), model='gpt-3.5-turbo-0125', object='fine_tuning.job', organization_id='org-d1ff5NC3puU0cXl4KzIo514W', result_files=[], seed=108661774, status='failed', trained_tokens=None, training_file='file-uanmMrmxPfTejfLqGGd5gfLX', validation_file=None, estimated_finish=None, integrations=[], user_provided_suffix=None), FineTuningJob(id='ftjob-2E8ncWSeCdQOrVwMKQF7DGIa', created_at=1704636154, error=Error(code=None, message=None, param=None), fine_tuned_model='ft:gpt-3.5-turbo-0613:personal::8eO7mDKI', finished_at=1704636545, hyperparameters=Hyperparameters(n_epochs=3, batch_size=1, learning_rate_multiplier=2), model='gpt-3.5-turbo-0613', object='fine_tuning.job', organization_id='org-d1ff5NC3puU0cXl4KzIo514W', result_files=['file-AxiqYNVqithrIF803J9IIUwB'], seed=None, status='succeeded', trained_tokens=30201, training_file='file-a8Um2ECGN4xRnvXpUI7yZ5jP', validation_file=None, estimated_finish=None, integrations=[], user_provided_suffix=None), FineTuningJob(id='ftjob-acX71cjyK51ng155cJwRgExk', created_at=1704635725, error=Error(code=None, message=None, param=None), fine_tuned_model='ft:gpt-3.5-turbo-0613:personal::8eO1BdJr', finished_at=1704636136, hyperparameters=Hyperparameters(n_epochs=3, batch_size=1, learning_rate_multiplier=2), model='gpt-3.5-turbo-0613', object='fine_tuning.job', organization_id='org-d1ff5NC3puU0cXl4KzIo514W', result_files=['file-IR9Fjol5ZOMWIq6J19JiBlbY'], seed=None, status='succeeded', trained_tokens=30201, training_file='file-7bOVe73YKqQ0VHsu7538vKKD', validation_file=None, estimated_finish=None, integrations=[], user_provided_suffix=None), FineTuningJob(id='ftjob-mr75vQMrFeS8Gy4FtwuAimVR', created_at=1702642218, error=Error(code=None, message=None, param=None), fine_tuned_model='ft:gpt-3.5-turbo-0613:personal::8W1Oz3W5', finished_at=1702642576, hyperparameters=Hyperparameters(n_epochs=7, batch_size=1, learning_rate_multiplier=2), model='gpt-3.5-turbo-0613', object='fine_tuning.job', organization_id='org-d1ff5NC3puU0cXl4KzIo514W', result_files=['file-lfFx2u4nkylKeBPDs8lbByrG'], seed=None, status='succeeded', trained_tokens=14623, training_file='file-8CSIafDciHahNuu6od8Rv1q7', validation_file=None, estimated_finish=None, integrations=[], user_provided_suffix=None), FineTuningJob(id='ftjob-XOfrX8R9wSVbubwFf3irW5hJ', created_at=1702641743, error=Error(code=None, message=None, param=None), fine_tuned_model='ft:gpt-3.5-turbo-0613:personal::8W1HNUe0', finished_at=1702642104, hyperparameters=Hyperparameters(n_epochs=6, batch_size=1, learning_rate_multiplier=2), model='gpt-3.5-turbo-0613', object='fine_tuning.job', organization_id='org-d1ff5NC3puU0cXl4KzIo514W', result_files=['file-xA5TdouagqGoBcH4N1dcv1D7'], seed=None, status='succeeded', trained_tokens=18348, training_file='file-y6EZSfnJX41TJdeDRBa5ME0q', validation_file=None, estimated_finish=None, integrations=[], user_provided_suffix=None), FineTuningJob(id='ftjob-MfnJRQRdaE6O5Rv7meLb2xuC', created_at=1695795007, error=Error(code=None, message=None, param=None), fine_tuned_model='ft:gpt-3.5-turbo-0613:personal::83I7AIez', finished_at=1695795308, hyperparameters=Hyperparameters(n_epochs=6, batch_size=1, learning_rate_multiplier=2), model='gpt-3.5-turbo-0613', object='fine_tuning.job', organization_id='org-d1ff5NC3puU0cXl4KzIo514W', result_files=['file-ACPppi2nf19caAFdmsmfKcGf'], seed=None, status='succeeded', trained_tokens=18348, training_file='file-NfTl2K21akPglDSlsARiKYJg', validation_file=None, estimated_finish=None, integrations=[], user_provided_suffix=None), FineTuningJob(id='ftjob-sfKymGgQ5VMEkXHCIG2jZNiR', created_at=1695794425, error=Error(code=None, message=None, param=None), fine_tuned_model='ft:gpt-3.5-turbo-0613:personal::83Hy082S', finished_at=1695794739, hyperparameters=Hyperparameters(n_epochs=6, batch_size=1, learning_rate_multiplier=2), model='gpt-3.5-turbo-0613', object='fine_tuning.job', organization_id='org-d1ff5NC3puU0cXl4KzIo514W', result_files=['file-8nwOm27QZdIayaqbzd14pgH6'], seed=None, status='succeeded', trained_tokens=18348, training_file='file-FSVfw0BxDxjTV8uaJrNVlw1G', validation_file=None, estimated_finish=None, integrations=[], user_provided_suffix=None), FineTuningJob(id='ftjob-Nk2dH36sszO48PYI7NpIQC5Y', created_at=1695794304, error=Error(code=None, message=None, param=None), fine_tuned_model='ft:gpt-3.5-turbo-0613:personal::83HvnL4x', finished_at=1695794602, hyperparameters=Hyperparameters(n_epochs=6, batch_size=1, learning_rate_multiplier=2), model='gpt-3.5-turbo-0613', object='fine_tuning.job', organization_id='org-d1ff5NC3puU0cXl4KzIo514W', result_files=['file-WP9u1f2EsYX60LaTH8PCedDm'], seed=None, status='succeeded', trained_tokens=18348, training_file='file-f2wTERuWxq6Rl26ub5NqwQ8z', validation_file=None, estimated_finish=None, integrations=[], user_provided_suffix=None)], object='list', has_more=False)"
      ]
     },
     "execution_count": 7,
     "metadata": {},
     "output_type": "execute_result"
    }
   ],
   "source": [
    "from openai import OpenAI\n",
    "client = OpenAI()\n",
    "\n",
    "# List 10 fine-tuning jobs\n",
    "client.fine_tuning.jobs.list(limit=10)\n",
    "\n",
    "# Retrieve the state of a fine-tune\n",
    "# client.fine_tuning.jobs.retrieve(\"ftjob-abc123\")\n",
    "\n",
    "# Cancel a job\n",
    "# client.fine_tuning.jobs.cancel(\"ftjob-abc123\")\n",
    "\n",
    "# List up to 10 events from a fine-tuning job\n",
    "# client.fine_tuning.jobs.list_events(fine_tuning_job_id=\"ftjob-abc123\", limit=10)\n",
    "\n",
    "# Delete a fine-tuned model (must be an owner of the org the model was created in)\n",
    "# client.models.delete(\"ft:gpt-3.5-turbo:acemeco:suffix:abc123\")"
   ]
  },
  {
   "cell_type": "code",
   "execution_count": 20,
   "metadata": {},
   "outputs": [
    {
     "name": "stdout",
     "output_type": "stream",
     "text": [
      "ChatCompletionMessage(content='The average distance from the Moon to Earth is about 384,400 kilometers (238,855 miles).', role='assistant', function_call=None, tool_calls=None)\n"
     ]
    }
   ],
   "source": [
    "from openai import OpenAI\n",
    "client = OpenAI()\n",
    "\n",
    "completion = client.chat.completions.create(\n",
    "  model=\"ft:gpt-3.5-turbo-0125:personal::9jdRRuWA\",\n",
    "  messages=[\n",
    "    {\"role\": \"user\", \"content\": \"How far is the Moon from Earth?\"}\n",
    "  ]\n",
    ")\n",
    "print(completion.choices[0].message)"
   ]
  }
 ],
 "metadata": {
  "kernelspec": {
   "display_name": "venv",
   "language": "python",
   "name": "python3"
  },
  "language_info": {
   "codemirror_mode": {
    "name": "ipython",
    "version": 3
   },
   "file_extension": ".py",
   "mimetype": "text/x-python",
   "name": "python",
   "nbconvert_exporter": "python",
   "pygments_lexer": "ipython3",
   "version": "3.10.0"
  }
 },
 "nbformat": 4,
 "nbformat_minor": 2
}
